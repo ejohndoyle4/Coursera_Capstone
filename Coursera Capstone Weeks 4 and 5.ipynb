{
 "cells": [
  {
   "cell_type": "markdown",
   "metadata": {
    "collapsed": true
   },
   "source": [
    "## Battle of the Neighborhoods\n",
    "by John Doyle"
   ]
  },
  {
   "cell_type": "markdown",
   "metadata": {},
   "source": [
    "### Problem Definition\n",
    "\n",
    "With recent US federal regulation legalizing hemp in all 50 states, the sales of CBD related products is a hot growth market. For states that have legalized hemp & marijuana, usage by demographics (primarily age) have been tabulated over the last few years.  With New York recently being affected by the new federal regulation enabling the growth/processing/sale of CBD (derived from hemp), there is an opportunity to open up a small chain of CBD-focused wellness shops in the Manhattan area. \n",
    "\n",
    "The question becomes:  in which Manhattan neighborhoods should we strive to open 2-3 stores?\n",
    "\n",
    "The people who would be interested in this analysis would be entreprenuers who are interested in the CBD industry."
   ]
  },
  {
   "cell_type": "markdown",
   "metadata": {},
   "source": [
    "### Data Sources\n",
    "\n",
    "In order to understand which neighborhoods would be best suited for our CBD-focused wellness shops, we should incorporate the following into our analysis:\n",
    "\n",
    "1. What is the rate of usage and average spend for various age groups?\n",
    "    - to support this part of the analysis, we'll reference this article: https://www.nytimes.com/2019/01/24/us/california-today-marijuana-consumers-by-the-numbers.html\n",
    "\n",
    "\n",
    "2. What is the population density of the age groups (from the NY times article) in neighborhoods in Manhattan?  And what's the potential spend by neighborhood, resulting in the top 5 target neighborhoods for consideration?\n",
    "    - to support this, we'll leverage a download of the 2017 US Census by zipcode from FactFinder.census.gov\n",
    "    - we'll load this data into our environment, and pull out the population #s by age group to match the zipcodes\n",
    "    - we'll leverage neighborhood name to zipcode mapping to pull out Manhattan neighborhoods only, using: https://www.health.ny.gov/statistics/cancer/registry/appendix/neighborhoods.htm\t\n",
    "  \n",
    "  \n",
    "3.  Finally, we'll want to know if there are differences in the neighborhoods in Manhattan in terms of density of retail stores and pharmacies, as this would indicate healthy shopping districts in which a CBD-wellness store could be located.\n",
    "    - to support this, we'll pull data from Foursquare for the top 5 neighborhoods (as identified by revenue potential from the analaysis done in steps 1 and 2 above).  We'll then analyze the # of retail stores\n",
    "      and existing pharmacies in the top 5 neighborhoods, to settle on 2-3 final neighborhoods where revenue potential is high, there appear to be appropriate overall densities of retail stores combined with lower\n",
    "      numbers of pharmacies (indicating lower potential competition for the CBD-wellness store)"
   ]
  },
  {
   "cell_type": "code",
   "execution_count": null,
   "metadata": {},
   "outputs": [],
   "source": []
  }
 ],
 "metadata": {
  "kernelspec": {
   "display_name": "Python 3.6",
   "language": "python",
   "name": "python3"
  },
  "language_info": {
   "codemirror_mode": {
    "name": "ipython",
    "version": 3
   },
   "file_extension": ".py",
   "mimetype": "text/x-python",
   "name": "python",
   "nbconvert_exporter": "python",
   "pygments_lexer": "ipython3",
   "version": "3.6.8"
  }
 },
 "nbformat": 4,
 "nbformat_minor": 1
}
